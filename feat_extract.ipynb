{
 "cells": [
  {
   "cell_type": "markdown",
   "metadata": {},
   "source": [
    "-----------------------------------------------------------------------------------------\n",
    "Formatação dataset emoUERJ (https://zenodo.org/records/5427549) para um DataFrame"
   ]
  },
  {
   "cell_type": "code",
   "execution_count": null,
   "metadata": {},
   "outputs": [],
   "source": [
    "# - Instalações (necessário rodar uma vez somente)\n",
    "%pip install pandas"
   ]
  },
  {
   "cell_type": "code",
   "execution_count": 28,
   "metadata": {},
   "outputs": [],
   "source": [
    "from os import listdir\n",
    "from os.path import isfile, join\n",
    "import pandas as pd\n",
    "\n",
    "train_data_dir = './datasets/fardo/'\n",
    "label_index_in_filename = 3 + len(train_data_dir)\n",
    "label_dict = {'n':'neutro', 'a':'raiva', 'h': 'felicidade', 's':'tristeza'}\n",
    "\n",
    "train_audio_files = [f for f in listdir(train_data_dir) if isfile(join(train_data_dir, f))]\n",
    "\n",
    "data_list = []\n",
    "df_data = []\n",
    "for file in train_audio_files:\n",
    "  filename = file.replace('.wav','')\n",
    "  # if \"aug\" not in filename:\n",
    "  label_from_filename = filename[label_index_in_filename - len(train_data_dir)]\n",
    "  data_list.append([file, label_dict[label_from_filename]])\n",
    "\n",
    "df_data = pd.DataFrame(data_list)\n",
    "df_data.columns = ['file','label']"
   ]
  },
  {
   "cell_type": "markdown",
   "metadata": {},
   "source": [
    "-----------------------------------------------------------------------------------------\n",
    "Data Augmentation"
   ]
  },
  {
   "cell_type": "code",
   "execution_count": null,
   "metadata": {},
   "outputs": [],
   "source": [
    "%pip install audiomentations\n",
    "%pip install librosa\n",
    "%pip install soundfile\n",
    "%pip install audiomentations\n",
    "%pip install matplotlib"
   ]
  },
  {
   "cell_type": "code",
   "execution_count": 6,
   "metadata": {},
   "outputs": [],
   "source": [
    "from audiomentations import Compose, AddGaussianNoise, TimeStretch, PitchShift, Shift\n",
    "import numpy as np\n",
    "import soundfile as sf\n",
    "import librosa\n",
    "\n",
    "# Definição das variações aplicadas\n",
    "augment = Compose([\n",
    "    AddGaussianNoise(min_amplitude=0.001, max_amplitude=0.01, p=1),\n",
    "    TimeStretch(min_rate=0.8, max_rate=1, p=1),\n",
    "    PitchShift(min_semitones=-2, max_semitones=2, p=1),\n",
    "])"
   ]
  },
  {
   "cell_type": "markdown",
   "metadata": {},
   "source": [
    "Visualizar o efeito em uma amostra:"
   ]
  },
  {
   "cell_type": "code",
   "execution_count": null,
   "metadata": {},
   "outputs": [],
   "source": [
    "import matplotlib.pyplot as plt\n",
    "\n",
    "signal, sr = librosa.load(\"./datasets/emoUERJ/m01a01.wav\", sr=None)\n",
    "\n",
    "# Augment/transform/perturb the audio data\n",
    "augmented_samples = augment(samples=signal, sample_rate=sr)\n",
    "\n",
    "# Normalize the signal to the range [-1, 1]\n",
    "signal_normalized = librosa.util.normalize(augmented_samples)\n",
    "\n",
    "# Plot the audio waveform\n",
    "plt.figure(figsize=(14, 5))\n",
    "librosa.display.waveshow(signal, sr=sr, color=\"blue\")\n",
    "plt.title('Waveform')\n",
    "plt.xlabel('Time (s)')\n",
    "plt.ylabel('Amplitude')\n",
    "plt.show()\n",
    "\n",
    "# Plot the audio waveform\n",
    "plt.figure(figsize=(14, 5))\n",
    "librosa.display.waveshow(signal_normalized, sr=sr, color=\"blue\")\n",
    "plt.title('Waveform')\n",
    "plt.xlabel('Time (s)')\n",
    "plt.ylabel('Amplitude')\n",
    "plt.show()"
   ]
  },
  {
   "cell_type": "markdown",
   "metadata": {},
   "source": [
    "Salvar em um .wav para ouvir:"
   ]
  },
  {
   "cell_type": "code",
   "execution_count": null,
   "metadata": {},
   "outputs": [],
   "source": [
    "# Specify the file path\n",
    "file_path = \"augm_example.wav\"\n",
    "\n",
    "# Save the signal as a WAV file\n",
    "sf.write(file_path, signal_normalized, sr)"
   ]
  },
  {
   "cell_type": "markdown",
   "metadata": {},
   "source": [
    "Aplicar em todo o dataset:"
   ]
  },
  {
   "cell_type": "code",
   "execution_count": 19,
   "metadata": {},
   "outputs": [],
   "source": [
    "augmented_data_list = []\n",
    "for index, row in df_data.iterrows():\n",
    "  wav_path = train_data_dir + row['file']\n",
    "  if \"aug\" not in wav_path:\n",
    "    signal, sr = librosa.load(wav_path, sr=None)\n",
    "\n",
    "    # Aplicar augmentations\n",
    "    augmented_samples = augment(samples=signal, sample_rate=sr)\n",
    "    signal_normalized = librosa.util.normalize(augmented_samples)\n",
    "\n",
    "    file_name = row['file'][:-len(\".wav\")] + \"aug.wav\"\n",
    "\n",
    "    new_wav_path = train_data_dir + file_name\n",
    "    sf.write(new_wav_path, signal_normalized, sr)\n",
    "    label_from_filename = wav_path[label_index_in_filename]\n",
    "    augmented_data_list.append([file_name, label_dict[label_from_filename]])\n",
    "\n",
    "complete_data_list = data_list + augmented_data_list\n",
    "df_data = pd.DataFrame(complete_data_list)\n",
    "df_data.columns = ['file','label']"
   ]
  },
  {
   "cell_type": "markdown",
   "metadata": {},
   "source": [
    "Visualizar os dados:"
   ]
  },
  {
   "cell_type": "code",
   "execution_count": 29,
   "metadata": {},
   "outputs": [
    {
     "data": {
      "text/html": [
       "<div>\n",
       "<style scoped>\n",
       "    .dataframe tbody tr th:only-of-type {\n",
       "        vertical-align: middle;\n",
       "    }\n",
       "\n",
       "    .dataframe tbody tr th {\n",
       "        vertical-align: top;\n",
       "    }\n",
       "\n",
       "    .dataframe thead th {\n",
       "        text-align: right;\n",
       "    }\n",
       "</style>\n",
       "<table border=\"1\" class=\"dataframe\">\n",
       "  <thead>\n",
       "    <tr style=\"text-align: right;\">\n",
       "      <th></th>\n",
       "      <th>file</th>\n",
       "      <th>label</th>\n",
       "    </tr>\n",
       "  </thead>\n",
       "  <tbody>\n",
       "    <tr>\n",
       "      <th>0</th>\n",
       "      <td>m01a05_aug.wav</td>\n",
       "      <td>raiva</td>\n",
       "    </tr>\n",
       "    <tr>\n",
       "      <th>1</th>\n",
       "      <td>m02a07_aug.wav</td>\n",
       "      <td>raiva</td>\n",
       "    </tr>\n",
       "    <tr>\n",
       "      <th>2</th>\n",
       "      <td>m02a07_.wav</td>\n",
       "      <td>raiva</td>\n",
       "    </tr>\n",
       "    <tr>\n",
       "      <th>3</th>\n",
       "      <td>m02h08_aug.wav</td>\n",
       "      <td>felicidade</td>\n",
       "    </tr>\n",
       "    <tr>\n",
       "      <th>4</th>\n",
       "      <td>m01s12_.wav</td>\n",
       "      <td>tristeza</td>\n",
       "    </tr>\n",
       "    <tr>\n",
       "      <th>5</th>\n",
       "      <td>m03n09_aug.wav</td>\n",
       "      <td>neutro</td>\n",
       "    </tr>\n",
       "    <tr>\n",
       "      <th>6</th>\n",
       "      <td>m01a05_.wav</td>\n",
       "      <td>raiva</td>\n",
       "    </tr>\n",
       "    <tr>\n",
       "      <th>7</th>\n",
       "      <td>m03n09_.wav</td>\n",
       "      <td>neutro</td>\n",
       "    </tr>\n",
       "    <tr>\n",
       "      <th>8</th>\n",
       "      <td>m02h08_.wav</td>\n",
       "      <td>felicidade</td>\n",
       "    </tr>\n",
       "    <tr>\n",
       "      <th>9</th>\n",
       "      <td>m01s12_aug.wav</td>\n",
       "      <td>tristeza</td>\n",
       "    </tr>\n",
       "  </tbody>\n",
       "</table>\n",
       "</div>"
      ],
      "text/plain": [
       "             file       label\n",
       "0  m01a05_aug.wav       raiva\n",
       "1  m02a07_aug.wav       raiva\n",
       "2     m02a07_.wav       raiva\n",
       "3  m02h08_aug.wav  felicidade\n",
       "4     m01s12_.wav    tristeza\n",
       "5  m03n09_aug.wav      neutro\n",
       "6     m01a05_.wav       raiva\n",
       "7     m03n09_.wav      neutro\n",
       "8     m02h08_.wav  felicidade\n",
       "9  m01s12_aug.wav    tristeza"
      ]
     },
     "execution_count": 29,
     "metadata": {},
     "output_type": "execute_result"
    }
   ],
   "source": [
    "df_data"
   ]
  },
  {
   "cell_type": "markdown",
   "metadata": {},
   "source": [
    "Visualizar a distribuição de classes:"
   ]
  },
  {
   "cell_type": "code",
   "execution_count": null,
   "metadata": {},
   "outputs": [],
   "source": [
    "# - Instalações (necessário rodar uma vez somente)\n",
    "%pip install matplotlib"
   ]
  },
  {
   "cell_type": "code",
   "execution_count": 30,
   "metadata": {},
   "outputs": [
    {
     "data": {
      "text/plain": [
       "<Axes: >"
      ]
     },
     "execution_count": 30,
     "metadata": {},
     "output_type": "execute_result"
    },
    {
     "data": {
      "image/png": "[encoded data removed]",
      "text/plain": [
       "<Figure size 640x480 with 1 Axes>"
      ]
     },
     "metadata": {},
     "output_type": "display_data"
    }
   ],
   "source": [
    "df_data.label.hist()"
   ]
  },
  {
   "cell_type": "markdown",
   "metadata": {},
   "source": [
    "----------------------------------------------------------------------------------\n",
    "Extrair features prosódicas (de entonação) com o Praat e Parselmouth - baseado em https://github.com/uzaymacar/simple-speech-features - (tempo médio de 3,1s)"
   ]
  },
  {
   "cell_type": "code",
   "execution_count": null,
   "metadata": {},
   "outputs": [],
   "source": [
    "# - Instalações (necessário rodar uma vez somente)\n",
    "%pip install praat-parselmouth"
   ]
  },
  {
   "cell_type": "markdown",
   "metadata": {},
   "source": [
    "Configuração inicial:"
   ]
  },
  {
   "cell_type": "code",
   "execution_count": 9,
   "metadata": {},
   "outputs": [],
   "source": [
    "import pandas as pd\n",
    "from utils.prosodic_extraction_utils import *\n",
    "\n",
    "def extract_prosody(sound_filepath):\n",
    "\n",
    "  sound = parselmouth.Sound(sound_filepath)\n",
    "  df = pd.DataFrame()\n",
    "\n",
    "  attributes = {}\n",
    "\n",
    "  intensity_attributes = get_intensity_attributes(sound)[0]\n",
    "  pitch_attributes = get_pitch_attributes(sound)[0]\n",
    "  attributes.update(intensity_attributes)\n",
    "  attributes.update(pitch_attributes)\n",
    "\n",
    "  hnr_attributes = get_harmonics_to_noise_ratio_attributes(sound)[0]\n",
    "  gne_attributes = get_glottal_to_noise_ratio_attributes(sound)[0]\n",
    "  attributes.update(hnr_attributes)\n",
    "  attributes.update(gne_attributes)\n",
    "\n",
    "  df['local_jitter'] = None\n",
    "  df['local_shimmer'] = None\n",
    "  df.at[0, 'local_jitter'] = get_local_jitter(sound)\n",
    "  df.at[0, 'local_shimmer'] = get_local_shimmer(sound)\n",
    "\n",
    "  spectrum_attributes = get_spectrum_attributes(sound)[0]\n",
    "  attributes.update(spectrum_attributes)\n",
    "\n",
    "  formant_attributes = get_formant_attributes(sound)[0]\n",
    "  attributes.update(formant_attributes)\n",
    "\n",
    "  for attribute in attributes:\n",
    "      df.at[0, attribute] = attributes[attribute]\n",
    "      \n",
    "  df.at[0, 'sound_filepath'] = sound_filepath\n",
    "  rearranged_columns = df.columns.tolist()[-1:] + df.columns.tolist()[:-1]\n",
    "  df = df[rearranged_columns]\n",
    "  \n",
    "  # Adiciona label\n",
    "  label_from_filename = sound_filepath[label_index_in_filename]\n",
    "  df['label'] = label_dict[label_from_filename]\n",
    "  \n",
    "  return df"
   ]
  },
  {
   "cell_type": "markdown",
   "metadata": {},
   "source": [
    "Exemplo de extração para uma amostra:"
   ]
  },
  {
   "cell_type": "code",
   "execution_count": 12,
   "metadata": {},
   "outputs": [
    {
     "data": {
      "text/html": [
       "<div>\n",
       "<style scoped>\n",
       "    .dataframe tbody tr th:only-of-type {\n",
       "        vertical-align: middle;\n",
       "    }\n",
       "\n",
       "    .dataframe tbody tr th {\n",
       "        vertical-align: top;\n",
       "    }\n",
       "\n",
       "    .dataframe thead th {\n",
       "        text-align: right;\n",
       "    }\n",
       "</style>\n",
       "<table border=\"1\" class=\"dataframe\">\n",
       "  <thead>\n",
       "    <tr style=\"text-align: right;\">\n",
       "      <th></th>\n",
       "      <th>sound_filepath</th>\n",
       "      <th>local_jitter</th>\n",
       "      <th>local_shimmer</th>\n",
       "      <th>min_intensity</th>\n",
       "      <th>relative_min_intensity_time</th>\n",
       "      <th>max_intensity</th>\n",
       "      <th>relative_max_intensity_time</th>\n",
       "      <th>mean_intensity</th>\n",
       "      <th>stddev_intensity</th>\n",
       "      <th>q1_intensity</th>\n",
       "      <th>...</th>\n",
       "      <th>f2_median</th>\n",
       "      <th>f3_median</th>\n",
       "      <th>f4_median</th>\n",
       "      <th>formant_dispersion</th>\n",
       "      <th>average_formant</th>\n",
       "      <th>mff</th>\n",
       "      <th>fitch_vtl</th>\n",
       "      <th>delta_f</th>\n",
       "      <th>vtl_delta_f</th>\n",
       "      <th>label</th>\n",
       "    </tr>\n",
       "  </thead>\n",
       "  <tbody>\n",
       "    <tr>\n",
       "      <th>0</th>\n",
       "      <td>./datasets/emoUERJ/m01a01.wav</td>\n",
       "      <td>0.022391</td>\n",
       "      <td>0.147536</td>\n",
       "      <td>40.530746</td>\n",
       "      <td>0.165421</td>\n",
       "      <td>79.471716</td>\n",
       "      <td>0.570432</td>\n",
       "      <td>62.984094</td>\n",
       "      <td>8.991442</td>\n",
       "      <td>57.446197</td>\n",
       "      <td>...</td>\n",
       "      <td>1897.284531</td>\n",
       "      <td>2634.938182</td>\n",
       "      <td>3420.449821</td>\n",
       "      <td>948.752852</td>\n",
       "      <td>2131.71595</td>\n",
       "      <td>1770.152471</td>\n",
       "      <td>15.896299</td>\n",
       "      <td>1032.949631</td>\n",
       "      <td>16.941775</td>\n",
       "      <td>raiva</td>\n",
       "    </tr>\n",
       "  </tbody>\n",
       "</table>\n",
       "<p>1 rows × 58 columns</p>\n",
       "</div>"
      ],
      "text/plain": [
       "                  sound_filepath local_jitter local_shimmer  min_intensity  \\\n",
       "0  ./datasets/emoUERJ/m01a01.wav     0.022391      0.147536      40.530746   \n",
       "\n",
       "   relative_min_intensity_time  max_intensity  relative_max_intensity_time  \\\n",
       "0                     0.165421      79.471716                     0.570432   \n",
       "\n",
       "   mean_intensity  stddev_intensity  q1_intensity  ...    f2_median  \\\n",
       "0       62.984094          8.991442     57.446197  ...  1897.284531   \n",
       "\n",
       "     f3_median    f4_median  formant_dispersion  average_formant          mff  \\\n",
       "0  2634.938182  3420.449821          948.752852       2131.71595  1770.152471   \n",
       "\n",
       "   fitch_vtl      delta_f  vtl_delta_f  label  \n",
       "0  15.896299  1032.949631    16.941775  raiva  \n",
       "\n",
       "[1 rows x 58 columns]"
      ]
     },
     "execution_count": 12,
     "metadata": {},
     "output_type": "execute_result"
    }
   ],
   "source": [
    "extract_prosody('./datasets/emoUERJ/m01a01.wav')"
   ]
  },
  {
   "cell_type": "markdown",
   "metadata": {},
   "source": [
    "Extração para todo o dataset (aprox. 20 minutos):"
   ]
  },
  {
   "cell_type": "code",
   "execution_count": 31,
   "metadata": {},
   "outputs": [
    {
     "name": "stdout",
     "output_type": "stream",
     "text": [
      "Sample 0\n",
      "Sample 1\n",
      "Sample 3\n",
      "Sample 5\n",
      "Sample 9\n",
      "*** Extraction finished ***\n"
     ]
    },
    {
     "data": {
      "text/html": [
       "<div>\n",
       "<style scoped>\n",
       "    .dataframe tbody tr th:only-of-type {\n",
       "        vertical-align: middle;\n",
       "    }\n",
       "\n",
       "    .dataframe tbody tr th {\n",
       "        vertical-align: top;\n",
       "    }\n",
       "\n",
       "    .dataframe thead th {\n",
       "        text-align: right;\n",
       "    }\n",
       "</style>\n",
       "<table border=\"1\" class=\"dataframe\">\n",
       "  <thead>\n",
       "    <tr style=\"text-align: right;\">\n",
       "      <th></th>\n",
       "      <th>sound_filepath</th>\n",
       "      <th>local_jitter</th>\n",
       "      <th>local_shimmer</th>\n",
       "      <th>min_intensity</th>\n",
       "      <th>relative_min_intensity_time</th>\n",
       "      <th>max_intensity</th>\n",
       "      <th>relative_max_intensity_time</th>\n",
       "      <th>mean_intensity</th>\n",
       "      <th>stddev_intensity</th>\n",
       "      <th>q1_intensity</th>\n",
       "      <th>...</th>\n",
       "      <th>f2_median</th>\n",
       "      <th>f3_median</th>\n",
       "      <th>f4_median</th>\n",
       "      <th>formant_dispersion</th>\n",
       "      <th>average_formant</th>\n",
       "      <th>mff</th>\n",
       "      <th>fitch_vtl</th>\n",
       "      <th>delta_f</th>\n",
       "      <th>vtl_delta_f</th>\n",
       "      <th>label</th>\n",
       "    </tr>\n",
       "  </thead>\n",
       "  <tbody>\n",
       "    <tr>\n",
       "      <th>0</th>\n",
       "      <td>./datasets/fardo/m01a05_aug.wav</td>\n",
       "      <td>0.023649</td>\n",
       "      <td>0.167699</td>\n",
       "      <td>59.919845</td>\n",
       "      <td>0.355087</td>\n",
       "      <td>87.831338</td>\n",
       "      <td>0.516509</td>\n",
       "      <td>72.749890</td>\n",
       "      <td>6.989506</td>\n",
       "      <td>67.167533</td>\n",
       "      <td>...</td>\n",
       "      <td>2075.612555</td>\n",
       "      <td>2890.386910</td>\n",
       "      <td>3978.766308</td>\n",
       "      <td>1161.226032</td>\n",
       "      <td>2359.963496</td>\n",
       "      <td>1854.100718</td>\n",
       "      <td>15.212772</td>\n",
       "      <td>1167.267252</td>\n",
       "      <td>14.992282</td>\n",
       "      <td>raiva</td>\n",
       "    </tr>\n",
       "    <tr>\n",
       "      <th>1</th>\n",
       "      <td>./datasets/fardo/m02a07_aug.wav</td>\n",
       "      <td>0.025691</td>\n",
       "      <td>0.127432</td>\n",
       "      <td>60.548320</td>\n",
       "      <td>0.643117</td>\n",
       "      <td>88.521355</td>\n",
       "      <td>0.687095</td>\n",
       "      <td>74.325770</td>\n",
       "      <td>7.456331</td>\n",
       "      <td>66.291301</td>\n",
       "      <td>...</td>\n",
       "      <td>1908.469469</td>\n",
       "      <td>2858.538172</td>\n",
       "      <td>3977.481457</td>\n",
       "      <td>1132.214368</td>\n",
       "      <td>2331.331863</td>\n",
       "      <td>1884.183366</td>\n",
       "      <td>14.880782</td>\n",
       "      <td>1153.364472</td>\n",
       "      <td>15.173001</td>\n",
       "      <td>raiva</td>\n",
       "    </tr>\n",
       "    <tr>\n",
       "      <th>2</th>\n",
       "      <td>./datasets/fardo/m02h08_aug.wav</td>\n",
       "      <td>0.01842</td>\n",
       "      <td>0.135086</td>\n",
       "      <td>60.816414</td>\n",
       "      <td>0.972306</td>\n",
       "      <td>86.842735</td>\n",
       "      <td>0.728958</td>\n",
       "      <td>71.787944</td>\n",
       "      <td>8.518620</td>\n",
       "      <td>62.908728</td>\n",
       "      <td>...</td>\n",
       "      <td>1738.276862</td>\n",
       "      <td>2799.765079</td>\n",
       "      <td>4142.641127</td>\n",
       "      <td>1185.104576</td>\n",
       "      <td>2317.002617</td>\n",
       "      <td>1855.023983</td>\n",
       "      <td>15.102680</td>\n",
       "      <td>1161.892173</td>\n",
       "      <td>15.061639</td>\n",
       "      <td>felicidade</td>\n",
       "    </tr>\n",
       "    <tr>\n",
       "      <th>3</th>\n",
       "      <td>./datasets/fardo/m03n09_aug.wav</td>\n",
       "      <td>0.01981</td>\n",
       "      <td>0.121269</td>\n",
       "      <td>56.477991</td>\n",
       "      <td>0.972401</td>\n",
       "      <td>85.785867</td>\n",
       "      <td>0.750917</td>\n",
       "      <td>74.214483</td>\n",
       "      <td>8.340130</td>\n",
       "      <td>67.889370</td>\n",
       "      <td>...</td>\n",
       "      <td>1841.484482</td>\n",
       "      <td>2717.450916</td>\n",
       "      <td>3817.086957</td>\n",
       "      <td>1108.611699</td>\n",
       "      <td>2216.818554</td>\n",
       "      <td>1750.215431</td>\n",
       "      <td>16.053089</td>\n",
       "      <td>1102.918300</td>\n",
       "      <td>15.866996</td>\n",
       "      <td>neutro</td>\n",
       "    </tr>\n",
       "    <tr>\n",
       "      <th>4</th>\n",
       "      <td>./datasets/fardo/m01s12_aug.wav</td>\n",
       "      <td>0.024207</td>\n",
       "      <td>0.11768</td>\n",
       "      <td>59.323894</td>\n",
       "      <td>0.412702</td>\n",
       "      <td>85.209338</td>\n",
       "      <td>0.638796</td>\n",
       "      <td>71.641495</td>\n",
       "      <td>7.561251</td>\n",
       "      <td>63.279127</td>\n",
       "      <td>...</td>\n",
       "      <td>1955.873110</td>\n",
       "      <td>2876.894597</td>\n",
       "      <td>3716.924939</td>\n",
       "      <td>1093.978144</td>\n",
       "      <td>2246.170788</td>\n",
       "      <td>1736.728972</td>\n",
       "      <td>16.305636</td>\n",
       "      <td>1112.037081</td>\n",
       "      <td>15.736885</td>\n",
       "      <td>tristeza</td>\n",
       "    </tr>\n",
       "  </tbody>\n",
       "</table>\n",
       "<p>5 rows × 58 columns</p>\n",
       "</div>"
      ],
      "text/plain": [
       "                    sound_filepath local_jitter local_shimmer  min_intensity  \\\n",
       "0  ./datasets/fardo/m01a05_aug.wav     0.023649      0.167699      59.919845   \n",
       "1  ./datasets/fardo/m02a07_aug.wav     0.025691      0.127432      60.548320   \n",
       "2  ./datasets/fardo/m02h08_aug.wav      0.01842      0.135086      60.816414   \n",
       "3  ./datasets/fardo/m03n09_aug.wav      0.01981      0.121269      56.477991   \n",
       "4  ./datasets/fardo/m01s12_aug.wav     0.024207       0.11768      59.323894   \n",
       "\n",
       "   relative_min_intensity_time  max_intensity  relative_max_intensity_time  \\\n",
       "0                     0.355087      87.831338                     0.516509   \n",
       "1                     0.643117      88.521355                     0.687095   \n",
       "2                     0.972306      86.842735                     0.728958   \n",
       "3                     0.972401      85.785867                     0.750917   \n",
       "4                     0.412702      85.209338                     0.638796   \n",
       "\n",
       "   mean_intensity  stddev_intensity  q1_intensity  ...    f2_median  \\\n",
       "0       72.749890          6.989506     67.167533  ...  2075.612555   \n",
       "1       74.325770          7.456331     66.291301  ...  1908.469469   \n",
       "2       71.787944          8.518620     62.908728  ...  1738.276862   \n",
       "3       74.214483          8.340130     67.889370  ...  1841.484482   \n",
       "4       71.641495          7.561251     63.279127  ...  1955.873110   \n",
       "\n",
       "     f3_median    f4_median  formant_dispersion  average_formant          mff  \\\n",
       "0  2890.386910  3978.766308         1161.226032      2359.963496  1854.100718   \n",
       "1  2858.538172  3977.481457         1132.214368      2331.331863  1884.183366   \n",
       "2  2799.765079  4142.641127         1185.104576      2317.002617  1855.023983   \n",
       "3  2717.450916  3817.086957         1108.611699      2216.818554  1750.215431   \n",
       "4  2876.894597  3716.924939         1093.978144      2246.170788  1736.728972   \n",
       "\n",
       "   fitch_vtl      delta_f  vtl_delta_f       label  \n",
       "0  15.212772  1167.267252    14.992282       raiva  \n",
       "1  14.880782  1153.364472    15.173001       raiva  \n",
       "2  15.102680  1161.892173    15.061639  felicidade  \n",
       "3  16.053089  1102.918300    15.866996      neutro  \n",
       "4  16.305636  1112.037081    15.736885    tristeza  \n",
       "\n",
       "[5 rows x 58 columns]"
      ]
     },
     "execution_count": 31,
     "metadata": {},
     "output_type": "execute_result"
    }
   ],
   "source": [
    "sample_df_list = []\n",
    "for index, row in df_data.iterrows():\n",
    "  wav_file = train_data_dir + row['file']\n",
    "  print(f\"Sample {index}\")\n",
    "  sample_df_features = extract_prosody(wav_file) # Extração de features\n",
    "  sample_df_list.append(sample_df_features)\n",
    "\n",
    "print(f\"*** Extraction finished ***\")\n",
    "\n",
    "df_praat = pd.concat(sample_df_list).reset_index(drop=True)\n",
    "\n",
    "df_praat"
   ]
  },
  {
   "cell_type": "markdown",
   "metadata": {},
   "source": [
    "Salvar em um .csv:"
   ]
  },
  {
   "cell_type": "code",
   "execution_count": 33,
   "metadata": {},
   "outputs": [],
   "source": [
    "df_praat.to_csv(\"features/\" + train_data_dir[-8:-1] + '_features/aug_praat_features.csv',index=False)"
   ]
  },
  {
   "cell_type": "markdown",
   "metadata": {},
   "source": [
    "----------------------------------------------------------------------------------\n",
    "Extrair features com o TSFEL (tempo médio de 20,38s)"
   ]
  },
  {
   "cell_type": "code",
   "execution_count": null,
   "metadata": {},
   "outputs": [],
   "source": [
    "# - Instalações (necessário rodar uma vez somente)\n",
    "%pip install tsfel\n",
    "%pip install pandas\n",
    "%pip install librosa"
   ]
  },
  {
   "cell_type": "markdown",
   "metadata": {},
   "source": [
    "Configuração inicial:"
   ]
  },
  {
   "cell_type": "code",
   "execution_count": 61,
   "metadata": {},
   "outputs": [],
   "source": [
    "# Imports\n",
    "import tsfel\n",
    "import pandas as pd\n",
    "import librosa\n",
    "\n",
    "# Retrieves a pre-defined feature configuration file to extract all available features\n",
    "cfg = tsfel.get_features_by_domain()\n",
    "\n",
    "def extract_tsfel(wav_file):\n",
    "    # Carregar os dados, converter em sinal e salvar em serie temporal num dataframe\n",
    "    signal, sr = librosa.load(wav_file, sr=None)\n",
    "    time_index = pd.date_range(start=0, periods=len(signal), freq=f\"{int(1/sr*(10**9))}N\")\n",
    "    numeric_time_index = time_index.astype(int)\n",
    "    df = pd.DataFrame(data={\"Time\": numeric_time_index, \"Signal\": signal})\n",
    "    \n",
    "    sample_df_features = tsfel.time_series_features_extractor(cfg, df) # Extração de features\n",
    "    \n",
    "    # Adiciona nome do arquivo e label\n",
    "    sample_df_features.at[0, 'sound_filepath'] = wav_file[len(train_data_dir):]\n",
    "    label_from_filename = wav_file[label_index_in_filename]\n",
    "    sample_df_features.at[0, 'label'] = label_dict[label_from_filename]\n",
    "    \n",
    "    return sample_df_features"
   ]
  },
  {
   "cell_type": "markdown",
   "metadata": {},
   "source": [
    "Exemplo de extração para uma amostra:"
   ]
  },
  {
   "cell_type": "code",
   "execution_count": 62,
   "metadata": {},
   "outputs": [
    {
     "name": "stdout",
     "output_type": "stream",
     "text": [
      "*** Feature extraction started ***\n"
     ]
    },
    {
     "name": "stderr",
     "output_type": "stream",
     "text": [
      "/tmp/ipykernel_8569/3216378225.py:16: UserWarning: Using default sampling frequency set in configuration file.\n",
      "  sample_df_features = tsfel.time_series_features_extractor(cfg, df) # Extração de features\n"
     ]
    },
    {
     "data": {
      "text/html": [
       "\n",
       "              <p>\n",
       "                  Progress: 100% Complete\n",
       "              <p/>\n",
       "              <progress\n",
       "                  value='60'\n",
       "                  max='60',\n",
       "                  style='width: 25%',\n",
       "              >\n",
       "                  60\n",
       "              </progress>\n",
       "\n",
       "    "
      ],
      "text/plain": [
       "<IPython.core.display.HTML object>"
      ]
     },
     "metadata": {},
     "output_type": "display_data"
    },
    {
     "name": "stdout",
     "output_type": "stream",
     "text": [
      "\n",
      "*** Feature extraction finished ***\n"
     ]
    },
    {
     "data": {
      "text/html": [
       "<div>\n",
       "<style scoped>\n",
       "    .dataframe tbody tr th:only-of-type {\n",
       "        vertical-align: middle;\n",
       "    }\n",
       "\n",
       "    .dataframe tbody tr th {\n",
       "        vertical-align: top;\n",
       "    }\n",
       "\n",
       "    .dataframe thead th {\n",
       "        text-align: right;\n",
       "    }\n",
       "</style>\n",
       "<table border=\"1\" class=\"dataframe\">\n",
       "  <thead>\n",
       "    <tr style=\"text-align: right;\">\n",
       "      <th></th>\n",
       "      <th>Signal_Absolute energy</th>\n",
       "      <th>Signal_Area under the curve</th>\n",
       "      <th>Signal_Autocorrelation</th>\n",
       "      <th>Signal_Average power</th>\n",
       "      <th>Signal_Centroid</th>\n",
       "      <th>Signal_ECDF Percentile Count_0</th>\n",
       "      <th>Signal_ECDF Percentile Count_1</th>\n",
       "      <th>Signal_ECDF Percentile_0</th>\n",
       "      <th>Signal_ECDF Percentile_1</th>\n",
       "      <th>Signal_ECDF_0</th>\n",
       "      <th>...</th>\n",
       "      <th>Time_Wavelet variance_2</th>\n",
       "      <th>Time_Wavelet variance_3</th>\n",
       "      <th>Time_Wavelet variance_4</th>\n",
       "      <th>Time_Wavelet variance_5</th>\n",
       "      <th>Time_Wavelet variance_6</th>\n",
       "      <th>Time_Wavelet variance_7</th>\n",
       "      <th>Time_Wavelet variance_8</th>\n",
       "      <th>Time_Zero crossing rate</th>\n",
       "      <th>sound_filepath</th>\n",
       "      <th>label</th>\n",
       "    </tr>\n",
       "  </thead>\n",
       "  <tbody>\n",
       "    <tr>\n",
       "      <th>0</th>\n",
       "      <td>347.448257</td>\n",
       "      <td>34.038202</td>\n",
       "      <td>347.448257</td>\n",
       "      <td>0.315149</td>\n",
       "      <td>549.782205</td>\n",
       "      <td>22050.0</td>\n",
       "      <td>88200.0</td>\n",
       "      <td>-0.021286</td>\n",
       "      <td>0.023743</td>\n",
       "      <td>0.000009</td>\n",
       "      <td>...</td>\n",
       "      <td>1.724520e+14</td>\n",
       "      <td>3.047032e+14</td>\n",
       "      <td>4.747525e+14</td>\n",
       "      <td>6.825949e+14</td>\n",
       "      <td>9.282290e+14</td>\n",
       "      <td>1.211654e+15</td>\n",
       "      <td>1.532869e+15</td>\n",
       "      <td>1.0</td>\n",
       "      <td>m01a01.wav</td>\n",
       "      <td>raiva</td>\n",
       "    </tr>\n",
       "  </tbody>\n",
       "</table>\n",
       "<p>1 rows × 780 columns</p>\n",
       "</div>"
      ],
      "text/plain": [
       "   Signal_Absolute energy  Signal_Area under the curve  \\\n",
       "0              347.448257                    34.038202   \n",
       "\n",
       "   Signal_Autocorrelation  Signal_Average power  Signal_Centroid  \\\n",
       "0              347.448257              0.315149       549.782205   \n",
       "\n",
       "   Signal_ECDF Percentile Count_0  Signal_ECDF Percentile Count_1  \\\n",
       "0                         22050.0                         88200.0   \n",
       "\n",
       "   Signal_ECDF Percentile_0  Signal_ECDF Percentile_1  Signal_ECDF_0  ...  \\\n",
       "0                 -0.021286                  0.023743       0.000009  ...   \n",
       "\n",
       "   Time_Wavelet variance_2  Time_Wavelet variance_3  Time_Wavelet variance_4  \\\n",
       "0             1.724520e+14             3.047032e+14             4.747525e+14   \n",
       "\n",
       "   Time_Wavelet variance_5  Time_Wavelet variance_6  Time_Wavelet variance_7  \\\n",
       "0             6.825949e+14             9.282290e+14             1.211654e+15   \n",
       "\n",
       "   Time_Wavelet variance_8  Time_Zero crossing rate  sound_filepath  label  \n",
       "0             1.532869e+15                      1.0      m01a01.wav  raiva  \n",
       "\n",
       "[1 rows x 780 columns]"
      ]
     },
     "execution_count": 62,
     "metadata": {},
     "output_type": "execute_result"
    }
   ],
   "source": [
    "extract_tsfel('./datasets/emoUERJ/m01a01.wav')"
   ]
  },
  {
   "cell_type": "markdown",
   "metadata": {},
   "source": [
    "Extração para todo o dataset (aprox. 120 minutos):"
   ]
  },
  {
   "cell_type": "code",
   "execution_count": null,
   "metadata": {},
   "outputs": [],
   "source": [
    "\n",
    "sample_df_list = []\n",
    "for index,row in df_data.iterrows():\n",
    "    print(f\"Sample {index}\")\n",
    "    wav_file = train_data_dir + row['file']\n",
    "    sample_df_features = extract_tsfel(wav_file)\n",
    "    sample_df_list.append(sample_df_features)\n",
    "\n",
    "df_tsfel = pd.concat(sample_df_list).reset_index(drop=True)\n",
    "\n",
    "df_tsfel"
   ]
  },
  {
   "cell_type": "markdown",
   "metadata": {},
   "source": [
    "Salvar em um .csv:"
   ]
  },
  {
   "cell_type": "code",
   "execution_count": 68,
   "metadata": {},
   "outputs": [
    {
     "name": "stdout",
     "output_type": "stream",
     "text": [
      "./emoUERJ_features/tsfel_features.csv\n"
     ]
    }
   ],
   "source": [
    "df_tsfel.to_csv(train_data_dir[:-1] + '_features/tsfel_features.csv',index=False)"
   ]
  },
  {
   "cell_type": "markdown",
   "metadata": {},
   "source": [
    "----------------------------------------------------------------------------------\n",
    "Extrair features com o pyAudioAnalysis (tempo médio de 0,85s)"
   ]
  },
  {
   "cell_type": "code",
   "execution_count": null,
   "metadata": {},
   "outputs": [],
   "source": [
    "# - Instalações (necessário rodar uma vez somente)\n",
    "%pip install pyAudioAnalysis\n",
    "%pip install eyed3\n",
    "%pip install pydub\n",
    "%pip install tdqm\n",
    "%pip install matplotlib\n",
    "%pip install numpy"
   ]
  },
  {
   "cell_type": "markdown",
   "metadata": {},
   "source": [
    "Configuração inicial:"
   ]
  },
  {
   "cell_type": "code",
   "execution_count": 63,
   "metadata": {},
   "outputs": [],
   "source": [
    "from pyAudioAnalysis import audioBasicIO\n",
    "from pyAudioAnalysis import ShortTermFeatures\n",
    "import matplotlib.pyplot as plt\n",
    "import numpy as np\n",
    "\n",
    "def extract_pyaudio(wav_file):\n",
    "    freq_amost, signal = audioBasicIO.read_audio_file(wav_file)\n",
    "    signal = audioBasicIO.stereo_to_mono(signal)\n",
    "    \n",
    "    # Extract short-term features\n",
    "    win, step = 0.050 * freq_amost, 0.025 * freq_amost\n",
    "    features, feat_names = ShortTermFeatures.feature_extraction(signal, freq_amost, win, step)\n",
    "\n",
    "    # Flatten each row of the feature matrix\n",
    "    features_mean = np.mean(features, axis=1)\n",
    "\n",
    "    df = pd.DataFrame()\n",
    "    for index, attribute in enumerate(feat_names):\n",
    "        df.at[0, attribute] = features_mean[index]\n",
    "        \n",
    "    df.at[0, 'sound_filepath'] = wav_file[len(train_data_dir):]\n",
    "    label_from_filename = wav_file[label_index_in_filename]\n",
    "    df.at[0, 'label'] = label_dict[label_from_filename]\n",
    "    \n",
    "    return df"
   ]
  },
  {
   "cell_type": "markdown",
   "metadata": {},
   "source": [
    "Exemplo de extração para uma amostra:"
   ]
  },
  {
   "cell_type": "code",
   "execution_count": 64,
   "metadata": {},
   "outputs": [
    {
     "name": "stderr",
     "output_type": "stream",
     "text": [
      "/home/gustavo/projeto-embarcado-ima/.venv/lib/python3.9/site-packages/pyAudioAnalysis/audioBasicIO.py:99: WavFileWarning: Chunk (non-data) not understood, skipping it.\n",
      "  sampling_rate, signal = wavfile.read(input_file) # from scipy.io\n"
     ]
    },
    {
     "data": {
      "text/html": [
       "<div>\n",
       "<style scoped>\n",
       "    .dataframe tbody tr th:only-of-type {\n",
       "        vertical-align: middle;\n",
       "    }\n",
       "\n",
       "    .dataframe tbody tr th {\n",
       "        vertical-align: top;\n",
       "    }\n",
       "\n",
       "    .dataframe thead th {\n",
       "        text-align: right;\n",
       "    }\n",
       "</style>\n",
       "<table border=\"1\" class=\"dataframe\">\n",
       "  <thead>\n",
       "    <tr style=\"text-align: right;\">\n",
       "      <th></th>\n",
       "      <th>zcr</th>\n",
       "      <th>energy</th>\n",
       "      <th>energy_entropy</th>\n",
       "      <th>spectral_centroid</th>\n",
       "      <th>spectral_spread</th>\n",
       "      <th>spectral_entropy</th>\n",
       "      <th>spectral_flux</th>\n",
       "      <th>spectral_rolloff</th>\n",
       "      <th>mfcc_1</th>\n",
       "      <th>mfcc_2</th>\n",
       "      <th>...</th>\n",
       "      <th>delta chroma_6</th>\n",
       "      <th>delta chroma_7</th>\n",
       "      <th>delta chroma_8</th>\n",
       "      <th>delta chroma_9</th>\n",
       "      <th>delta chroma_10</th>\n",
       "      <th>delta chroma_11</th>\n",
       "      <th>delta chroma_12</th>\n",
       "      <th>delta chroma_std</th>\n",
       "      <th>sound_filepath</th>\n",
       "      <th>label</th>\n",
       "    </tr>\n",
       "  </thead>\n",
       "  <tbody>\n",
       "    <tr>\n",
       "      <th>0</th>\n",
       "      <td>0.087985</td>\n",
       "      <td>0.003985</td>\n",
       "      <td>2.942968</td>\n",
       "      <td>0.159956</td>\n",
       "      <td>0.161525</td>\n",
       "      <td>0.814258</td>\n",
       "      <td>0.003888</td>\n",
       "      <td>0.137619</td>\n",
       "      <td>-28.119707</td>\n",
       "      <td>1.247647</td>\n",
       "      <td>...</td>\n",
       "      <td>0.000008</td>\n",
       "      <td>0.000016</td>\n",
       "      <td>0.000027</td>\n",
       "      <td>0.000321</td>\n",
       "      <td>0.000149</td>\n",
       "      <td>0.000039</td>\n",
       "      <td>0.000027</td>\n",
       "      <td>-0.000311</td>\n",
       "      <td>m01a01.wav</td>\n",
       "      <td>raiva</td>\n",
       "    </tr>\n",
       "  </tbody>\n",
       "</table>\n",
       "<p>1 rows × 70 columns</p>\n",
       "</div>"
      ],
      "text/plain": [
       "        zcr    energy  energy_entropy  spectral_centroid  spectral_spread  \\\n",
       "0  0.087985  0.003985        2.942968           0.159956         0.161525   \n",
       "\n",
       "   spectral_entropy  spectral_flux  spectral_rolloff     mfcc_1    mfcc_2  \\\n",
       "0          0.814258       0.003888          0.137619 -28.119707  1.247647   \n",
       "\n",
       "   ...  delta chroma_6  delta chroma_7  delta chroma_8  delta chroma_9  \\\n",
       "0  ...        0.000008        0.000016        0.000027        0.000321   \n",
       "\n",
       "   delta chroma_10  delta chroma_11  delta chroma_12  delta chroma_std  \\\n",
       "0         0.000149         0.000039         0.000027         -0.000311   \n",
       "\n",
       "   sound_filepath  label  \n",
       "0      m01a01.wav  raiva  \n",
       "\n",
       "[1 rows x 70 columns]"
      ]
     },
     "execution_count": 64,
     "metadata": {},
     "output_type": "execute_result"
    }
   ],
   "source": [
    "extract_pyaudio('./datasets/emoUERJ/m01a01.wav')"
   ]
  },
  {
   "cell_type": "markdown",
   "metadata": {},
   "source": [
    "Extração para todo o dataset (aprox. 5:30 minutos):"
   ]
  },
  {
   "cell_type": "code",
   "execution_count": null,
   "metadata": {},
   "outputs": [],
   "source": [
    "sample_df_list = []\n",
    "for index,row in df_data.iterrows():\n",
    "    print(f\"Sample {index}\")\n",
    "    wav_file = train_data_dir + row['file']\n",
    "    sample_df_features = extract_pyaudio(wav_file)\n",
    "    sample_df_list.append(sample_df_features)\n",
    "    \n",
    "print(f\"*** Extraction finished ***\")\n",
    "\n",
    "df_pyaudio = pd.concat(sample_df_list).reset_index(drop=True)\n",
    "\n",
    "df_pyaudio"
   ]
  },
  {
   "cell_type": "markdown",
   "metadata": {},
   "source": [
    "Salvar em um .csv:"
   ]
  },
  {
   "cell_type": "code",
   "execution_count": null,
   "metadata": {},
   "outputs": [],
   "source": [
    "df_pyaudio.to_csv(train_data_dir[:-1] + '_features/pyaudioanalysis_features.csv',index=False)"
   ]
  }
 ],
 "metadata": {
  "kernelspec": {
   "display_name": "Python 3",
   "language": "python",
   "name": "python3"
  },
  "language_info": {
   "codemirror_mode": {
    "name": "ipython",
    "version": 3
   },
   "file_extension": ".py",
   "mimetype": "text/x-python",
   "name": "python",
   "nbconvert_exporter": "python",
   "pygments_lexer": "ipython3",
   "version": "3.9.16"
  }
 },
 "nbformat": 4,
 "nbformat_minor": 2
}
